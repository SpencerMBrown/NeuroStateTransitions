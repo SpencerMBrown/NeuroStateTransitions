{
 "cells": [
  {
   "cell_type": "code",
   "id": "initial_id",
   "metadata": {
    "collapsed": true,
    "ExecuteTime": {
     "end_time": "2025-04-08T17:58:01.162391Z",
     "start_time": "2025-04-08T17:58:01.154695Z"
    }
   },
   "source": [
    "import numpy as np\n",
    "from scipy.signal import find_peaks\n",
    "from matplotlib import pyplot as plt\n",
    "import os\n",
    "\n",
    "os.chdir('/Users/spencerbrown/PycharmProjects/Neuro')"
   ],
   "outputs": [],
   "execution_count": 3
  },
  {
   "metadata": {
    "ExecuteTime": {
     "end_time": "2025-04-08T18:02:10.150753Z",
     "start_time": "2025-04-08T18:02:09.812608Z"
    }
   },
   "cell_type": "code",
   "source": [
    "dat = np.load('./data/L2_15.npy')\n",
    "\n",
    "proms = []\n",
    "for i in range(18):\n",
    "    for j in range(2):\n",
    "        _, properties = find_peaks(dat[i, j, :], height=-999, prominence=-999)\n",
    "        proms.append(properties['prominences'])\n",
    "\n",
    "proms = np.concatenate(proms)\n",
    "\n",
    "plt.hist(proms, bins=100)\n",
    "plt.xscale('log')\n",
    "plt.yscale('log')\n",
    "plt.axvline(np.quantile(proms, 0.80), color='r')\n",
    "plt.axvline(np.quantile(proms, 0.95), color='r')\n",
    "plt.show()"
   ],
   "id": "9bd19be9b6cb671a",
   "outputs": [
    {
     "data": {
      "text/plain": [
       "<Figure size 640x480 with 1 Axes>"
      ],
      "image/png": "[encoded data removed]"
     },
     "metadata": {},
     "output_type": "display_data"
    }
   ],
   "execution_count": 12
  },
  {
   "metadata": {
    "ExecuteTime": {
     "end_time": "2025-04-08T18:02:35.431070Z",
     "start_time": "2025-04-08T18:02:35.419419Z"
    }
   },
   "cell_type": "code",
   "source": "np.quantile(proms, 0.8)",
   "id": "783c7550719a9980",
   "outputs": [
    {
     "data": {
      "text/plain": [
       "np.float64(27.296621124646723)"
      ]
     },
     "execution_count": 13,
     "metadata": {},
     "output_type": "execute_result"
    }
   ],
   "execution_count": 13
  },
  {
   "metadata": {},
   "cell_type": "code",
   "outputs": [],
   "execution_count": null,
   "source": "",
   "id": "69b1d103d55564c9"
  }
 ],
 "metadata": {
  "kernelspec": {
   "display_name": "Python 3",
   "language": "python",
   "name": "python3"
  },
  "language_info": {
   "codemirror_mode": {
    "name": "ipython",
    "version": 2
   },
   "file_extension": ".py",
   "mimetype": "text/x-python",
   "name": "python",
   "nbconvert_exporter": "python",
   "pygments_lexer": "ipython2",
   "version": "2.7.6"
  }
 },
 "nbformat": 4,
 "nbformat_minor": 5
}
