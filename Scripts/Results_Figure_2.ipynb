{
 "cells": [
  {
   "metadata": {
    "ExecuteTime": {
     "end_time": "2025-04-09T19:51:43.639047Z",
     "start_time": "2025-04-09T19:51:43.572949Z"
    }
   },
   "cell_type": "code",
   "source": [
    "'''\n",
    "Figure 2. Results for peaks as a function of osset from most previus task cueu\n",
    "\n",
    "Validated run cue points:\n",
    "8.05\n",
    "23.163\n",
    "38.291\n",
    "53.431\n",
    "68.545\n",
    "98.666\n",
    "113.793\n",
    "128.92\n",
    "159.041\n",
    "174.168\n",
    "\n",
    "Analysis of interest: L2_new ~ t_offset\n",
    "'''\n"
   ],
   "id": "54605616a551c42e",
   "outputs": [
    {
     "data": {
      "text/plain": [
       "'\\nFigure 2. Results for peaks as a function of osset from most previus task cueu\\n\\nValidated run cue points:\\n8.05\\n23.163\\n38.291\\n53.431\\n68.545\\n98.666\\n113.793\\n128.92\\n159.041\\n174.168\\n\\nAnalysis of interest: L2_new ~ t_offset\\n\\n'"
      ]
     },
     "execution_count": 320,
     "metadata": {},
     "output_type": "execute_result"
    }
   ],
   "execution_count": 320
  },
  {
   "cell_type": "code",
   "id": "initial_id",
   "metadata": {
    "collapsed": true,
    "ExecuteTime": {
     "end_time": "2025-04-09T19:51:43.893846Z",
     "start_time": "2025-04-09T19:51:43.662272Z"
    }
   },
   "source": [
    "from preprocessing import get_bold_task, task_events\n",
    "\n",
    "import os\n",
    "import numpy as np\n",
    "import pandas as pd\n",
    "from matplotlib import pyplot as plt\n",
    "from matplotlib.ticker import AutoMinorLocator\n",
    "plt.rcParams.update(plt.rcParamsDefault)\n",
    "plt.rcParams[\"font.family\"] = \"Helvetica\"\n",
    "\n",
    "from time import time\n",
    "\n",
    "from scipy.signal import find_peaks\n",
    "from scipy.stats import chisquare\n",
    "\n",
    "os.chdir('/Users/spencerbrown/PycharmProjects/Neuro')\n",
    "\n",
    "cmap = [\n",
    "    '#003f5c',\n",
    "    '#2f4b7c',\n",
    "    '#665191',\n",
    "    '#a05195',\n",
    "    '#d45087',\n",
    "    '#f95d6a',\n",
    "    '#ff7c43',\n",
    "    '#ffa600']"
   ],
   "outputs": [],
   "execution_count": 321
  },
  {
   "metadata": {
    "ExecuteTime": {
     "end_time": "2025-04-09T19:51:44.144195Z",
     "start_time": "2025-04-09T19:51:43.896896Z"
    }
   },
   "cell_type": "code",
   "source": [
    "atlas = 'Schaefer2018_fslr32k'\n",
    "task = 'MOTOR'\n",
    "# parcels = [200, 300, 400]\n",
    "parcels = 300\n",
    "dims = 2 # Number of homology dimensions to compute.\n",
    "frames = 284\n",
    "TR = 0.72\n",
    "acquisition = frames * TR\n",
    "\n",
    "bw = 15 # std of gaussian kernel.\n",
    "\n",
    "subjects = pd.read_excel('SubjectList.xlsx')\n",
    "subjects = subjects.Subject[subjects.Task == True]\n",
    "subjects = np.array(subjects)"
   ],
   "id": "ccc3064aa4daaa4a",
   "outputs": [],
   "execution_count": 322
  },
  {
   "metadata": {
    "ExecuteTime": {
     "end_time": "2025-04-09T19:51:44.165930Z",
     "start_time": "2025-04-09T19:51:44.149349Z"
    }
   },
   "cell_type": "code",
   "source": [
    "cues = np.arange(11, 263+21, 21) # In frame space.\n",
    "cues_frame = cues[1:-1] # dropping first and last.\n",
    "cues_time = cues_frame * TR # converted to a time space. \n",
    "cues_offset = cues_frame - cues_frame[0]\n",
    "\n",
    "t_frames = np.arange(2*bw, frames - 2*bw + 1)\n",
    "t_time = t_frames * TR\n",
    "\n",
    "start_drop = np.ceil(cues_frame[0] - t_frames[0]).astype(int)\n",
    "acquisition_valid = (len(cues_frame) - 1) * 21\n",
    "\n",
    "t_offset = np.arange(acquisition_valid)"
   ],
   "id": "bc34a5c8a8523820",
   "outputs": [],
   "execution_count": 323
  },
  {
   "metadata": {
    "ExecuteTime": {
     "end_time": "2025-04-09T19:51:44.395418Z",
     "start_time": "2025-04-09T19:51:44.170267Z"
    }
   },
   "cell_type": "code",
   "source": [
    "#t = np.linspace(0, acquisition, frames)\n",
    "def kern_a(std, offset):\n",
    "    t = np.arange(frames) + 0.5 # offsets to look at center of frame\n",
    "    sig2 = 2 * std * std\n",
    "    w = np.exp(-1 * ((t - offset) ** 2) / sig2)\n",
    "    w[int(offset):] = 0\n",
    "    scale = 2 / (std*np.sqrt(2*np.pi))\n",
    "    w = w * scale\n",
    "    return w\n",
    "\n",
    "def kern_b(std, offset):\n",
    "    t = np.arange(frames) + 0.5\n",
    "    sig2 = 2 * std * std\n",
    "    w = np.exp(-1 * ((t - offset) ** 2) / sig2)\n",
    "    w[:int(offset)] = 0\n",
    "    scale = 2 / (std*np.sqrt(2*np.pi))\n",
    "    w = w * scale\n",
    "    return w\n",
    "\n",
    "t = np.arange(frames) + 0.5\n",
    "a = kern_a(15, 100)\n",
    "b = kern_b(15, 100)\n",
    "plt.figure(figsize=(10, 1.5))\n",
    "plt.plot(t, a, c=cmap[0])\n",
    "plt.plot(t, b, c=cmap[3])\n",
    "plt.axvline(100, color='k', linestyle='--')\n",
    "plt.show()"
   ],
   "id": "5e11b053ad7bb25d",
   "outputs": [
    {
     "data": {
      "text/plain": [
       "<Figure size 1000x150 with 1 Axes>"
      ],
      "image/png": "[encoded data removed]"
     },
     "metadata": {},
     "output_type": "display_data"
    }
   ],
   "execution_count": 324
  },
  {
   "metadata": {
    "ExecuteTime": {
     "end_time": "2025-04-09T19:51:44.411582Z",
     "start_time": "2025-04-09T19:51:44.397243Z"
    }
   },
   "cell_type": "code",
   "source": [
    "def get_L2(sub, run):\n",
    "    t0 = time()\n",
    "\n",
    "    bold = get_bold_task(sub, run, atlas, parcels, task)\n",
    "    \n",
    "    # adjs_a = []\n",
    "    # adjs_b = []\n",
    "    L2 = []\n",
    "    for w in t_frames:\n",
    "        ka = kern_a(bw, w)\n",
    "        kb = kern_b(bw, w)\n",
    "    \n",
    "        bold_a = bold * ka\n",
    "        adj_a = 1 - np.corrcoef(bold_a)\n",
    "    \n",
    "        bold_b = bold * kb\n",
    "        adj_b = 1 - np.corrcoef(bold_b)\n",
    "        \n",
    "        # adjs_a.append(adj_a)\n",
    "        # adjs_b.append(adj_b)\n",
    "        L2.append(np.linalg.norm((adj_b - adj_a), ord='fro'))\n",
    "    \n",
    "    \n",
    "    # adjs_a = np.stack(adjs_a, axis=0)\n",
    "    # adjs_b = np.stack(adjs_b, axis=0)\n",
    "    L2 = np.array(L2)\n",
    "    \n",
    "    print(f'Completed subject {sub} run {run}, Time elapsed: {time()-t0}')\n",
    "    return L2"
   ],
   "id": "1e3ec0957e6df3e",
   "outputs": [],
   "execution_count": 325
  },
  {
   "metadata": {
    "ExecuteTime": {
     "end_time": "2025-04-09T19:51:53.561583Z",
     "start_time": "2025-04-09T19:51:44.413696Z"
    }
   },
   "cell_type": "code",
   "source": [
    "L2s = []\n",
    "for k in subjects:\n",
    "    for r in [0, 1]:\n",
    "        L2 = get_L2(k, r)\n",
    "        L2 = L2[start_drop:start_drop + acquisition_valid]\n",
    "        L2s.append(L2)\n",
    "\n",
    "np.save('L2_all.npy', L2s)"
   ],
   "id": "7e23f922681462f1",
   "outputs": [
    {
     "name": "stderr",
     "output_type": "stream",
     "text": [
      "pixdim[1,2,3] should be non-zero; setting 0 dims to 1\n",
      "pixdim[1,2,3] should be non-zero; setting 0 dims to 1\n",
      "pixdim[1,2,3] should be non-zero; setting 0 dims to 1\n"
     ]
    },
    {
     "name": "stdout",
     "output_type": "stream",
     "text": [
      "Completed subject 100610 run 0, Time elapsed: 2.648070812225342\n"
     ]
    },
    {
     "name": "stderr",
     "output_type": "stream",
     "text": [
      "pixdim[1,2,3] should be non-zero; setting 0 dims to 1\n"
     ]
    },
    {
     "name": "stdout",
     "output_type": "stream",
     "text": [
      "Completed subject 100610 run 1, Time elapsed: 1.3191461563110352\n"
     ]
    },
    {
     "name": "stderr",
     "output_type": "stream",
     "text": [
      "pixdim[1,2,3] should be non-zero; setting 0 dims to 1\n",
      "pixdim[1,2,3] should be non-zero; setting 0 dims to 1\n",
      "pixdim[1,2,3] should be non-zero; setting 0 dims to 1\n"
     ]
    },
    {
     "name": "stdout",
     "output_type": "stream",
     "text": [
      "Completed subject 102311 run 0, Time elapsed: 2.144982099533081\n"
     ]
    },
    {
     "name": "stderr",
     "output_type": "stream",
     "text": [
      "pixdim[1,2,3] should be non-zero; setting 0 dims to 1\n",
      "pixdim[1,2,3] should be non-zero; setting 0 dims to 1\n"
     ]
    },
    {
     "name": "stdout",
     "output_type": "stream",
     "text": [
      "Completed subject 102311 run 1, Time elapsed: 1.347048044204712\n"
     ]
    },
    {
     "name": "stderr",
     "output_type": "stream",
     "text": [
      "pixdim[1,2,3] should be non-zero; setting 0 dims to 1\n"
     ]
    },
    {
     "name": "stdout",
     "output_type": "stream",
     "text": [
      "Completed subject 102816 run 0, Time elapsed: 1.3284659385681152\n"
     ]
    },
    {
     "ename": "KeyboardInterrupt",
     "evalue": "",
     "output_type": "error",
     "traceback": [
      "\u001B[0;31m---------------------------------------------------------------------------\u001B[0m",
      "\u001B[0;31mKeyboardInterrupt\u001B[0m                         Traceback (most recent call last)",
      "Cell \u001B[0;32mIn[326], line 4\u001B[0m\n\u001B[1;32m      2\u001B[0m \u001B[38;5;28;01mfor\u001B[39;00m k \u001B[38;5;129;01min\u001B[39;00m subjects:\n\u001B[1;32m      3\u001B[0m     \u001B[38;5;28;01mfor\u001B[39;00m r \u001B[38;5;129;01min\u001B[39;00m [\u001B[38;5;241m0\u001B[39m, \u001B[38;5;241m1\u001B[39m]:\n\u001B[0;32m----> 4\u001B[0m         L2 \u001B[38;5;241m=\u001B[39m \u001B[43mget_L2\u001B[49m\u001B[43m(\u001B[49m\u001B[43mk\u001B[49m\u001B[43m,\u001B[49m\u001B[43m \u001B[49m\u001B[43mr\u001B[49m\u001B[43m)\u001B[49m\n\u001B[1;32m      5\u001B[0m         L2 \u001B[38;5;241m=\u001B[39m L2[start_drop:start_drop \u001B[38;5;241m+\u001B[39m acquisition_valid]\n\u001B[1;32m      6\u001B[0m         L2s\u001B[38;5;241m.\u001B[39mappend(L2)\n",
      "Cell \u001B[0;32mIn[325], line 4\u001B[0m, in \u001B[0;36mget_L2\u001B[0;34m(sub, run)\u001B[0m\n\u001B[1;32m      1\u001B[0m \u001B[38;5;28;01mdef\u001B[39;00m \u001B[38;5;21mget_L2\u001B[39m(sub, run):\n\u001B[1;32m      2\u001B[0m     t0 \u001B[38;5;241m=\u001B[39m time()\n\u001B[0;32m----> 4\u001B[0m     bold \u001B[38;5;241m=\u001B[39m \u001B[43mget_bold_task\u001B[49m\u001B[43m(\u001B[49m\u001B[43msub\u001B[49m\u001B[43m,\u001B[49m\u001B[43m \u001B[49m\u001B[43mrun\u001B[49m\u001B[43m,\u001B[49m\u001B[43m \u001B[49m\u001B[43matlas\u001B[49m\u001B[43m,\u001B[49m\u001B[43m \u001B[49m\u001B[43mparcels\u001B[49m\u001B[43m,\u001B[49m\u001B[43m \u001B[49m\u001B[43mtask\u001B[49m\u001B[43m)\u001B[49m\n\u001B[1;32m      6\u001B[0m     \u001B[38;5;66;03m# adjs_a = []\u001B[39;00m\n\u001B[1;32m      7\u001B[0m     \u001B[38;5;66;03m# adjs_b = []\u001B[39;00m\n\u001B[1;32m      8\u001B[0m     L2 \u001B[38;5;241m=\u001B[39m []\n",
      "File \u001B[0;32m~/PycharmProjects/Neuro/preprocessing.py:101\u001B[0m, in \u001B[0;36mget_bold_task\u001B[0;34m(sub, run, atlas, parcel, task)\u001B[0m\n\u001B[1;32m     98\u001B[0m pb \u001B[38;5;241m=\u001B[39m pathb[run]\n\u001B[1;32m    100\u001B[0m bold_path \u001B[38;5;241m=\u001B[39m \u001B[38;5;124mf\u001B[39m\u001B[38;5;124m'\u001B[39m\u001B[38;5;124m./Data/\u001B[39m\u001B[38;5;132;01m{\u001B[39;00msub\u001B[38;5;132;01m}\u001B[39;00m\u001B[38;5;124m/\u001B[39m\u001B[38;5;132;01m{\u001B[39;00msub\u001B[38;5;132;01m}\u001B[39;00m\u001B[38;5;124m_3T_\u001B[39m\u001B[38;5;132;01m{\u001B[39;00mtask\u001B[38;5;132;01m}\u001B[39;00m\u001B[38;5;124m/MNINonLinear/Results/\u001B[39m\u001B[38;5;132;01m{\u001B[39;00mpa\u001B[38;5;132;01m}\u001B[39;00m\u001B[38;5;124m/\u001B[39m\u001B[38;5;132;01m{\u001B[39;00mpb\u001B[38;5;132;01m}\u001B[39;00m\u001B[38;5;124m'\u001B[39m\n\u001B[0;32m--> 101\u001B[0m bold_img \u001B[38;5;241m=\u001B[39m \u001B[43mnb\u001B[49m\u001B[38;5;241;43m.\u001B[39;49m\u001B[43mload\u001B[49m\u001B[43m(\u001B[49m\u001B[43mbold_path\u001B[49m\u001B[43m)\u001B[49m\n\u001B[1;32m    102\u001B[0m bold_header \u001B[38;5;241m=\u001B[39m bold_img\u001B[38;5;241m.\u001B[39mheader\n\u001B[1;32m    103\u001B[0m bold_dat \u001B[38;5;241m=\u001B[39m bold_img\u001B[38;5;241m.\u001B[39mget_fdata()\n",
      "File \u001B[0;32m~/PycharmProjects/Neuro/.venv/lib/python3.12/site-packages/nibabel/loadsave.py:110\u001B[0m, in \u001B[0;36mload\u001B[0;34m(filename, **kwargs)\u001B[0m\n\u001B[1;32m    108\u001B[0m     is_valid, sniff \u001B[38;5;241m=\u001B[39m image_klass\u001B[38;5;241m.\u001B[39mpath_maybe_image(filename, sniff)\n\u001B[1;32m    109\u001B[0m     \u001B[38;5;28;01mif\u001B[39;00m is_valid:\n\u001B[0;32m--> 110\u001B[0m         img \u001B[38;5;241m=\u001B[39m \u001B[43mimage_klass\u001B[49m\u001B[38;5;241;43m.\u001B[39;49m\u001B[43mfrom_filename\u001B[49m\u001B[43m(\u001B[49m\u001B[43mfilename\u001B[49m\u001B[43m,\u001B[49m\u001B[43m \u001B[49m\u001B[38;5;241;43m*\u001B[39;49m\u001B[38;5;241;43m*\u001B[39;49m\u001B[43mkwargs\u001B[49m\u001B[43m)\u001B[49m\n\u001B[1;32m    111\u001B[0m         \u001B[38;5;28;01mreturn\u001B[39;00m img\n\u001B[1;32m    113\u001B[0m matches, msg \u001B[38;5;241m=\u001B[39m _signature_matches_extension(filename)\n",
      "File \u001B[0;32m~/PycharmProjects/Neuro/.venv/lib/python3.12/site-packages/nibabel/dataobj_images.py:503\u001B[0m, in \u001B[0;36mDataobjImage.from_filename\u001B[0;34m(klass, filename, mmap, keep_file_open)\u001B[0m\n\u001B[1;32m    501\u001B[0m     \u001B[38;5;28;01mraise\u001B[39;00m \u001B[38;5;167;01mValueError\u001B[39;00m(\u001B[38;5;124m\"\u001B[39m\u001B[38;5;124mmmap should be one of \u001B[39m\u001B[38;5;124m{\u001B[39m\u001B[38;5;124mTrue, False, \u001B[39m\u001B[38;5;124m'\u001B[39m\u001B[38;5;124mc\u001B[39m\u001B[38;5;124m'\u001B[39m\u001B[38;5;124m, \u001B[39m\u001B[38;5;124m'\u001B[39m\u001B[38;5;124mr\u001B[39m\u001B[38;5;124m'\u001B[39m\u001B[38;5;124m}\u001B[39m\u001B[38;5;124m\"\u001B[39m)\n\u001B[1;32m    502\u001B[0m file_map \u001B[38;5;241m=\u001B[39m klass\u001B[38;5;241m.\u001B[39mfilespec_to_file_map(filename)\n\u001B[0;32m--> 503\u001B[0m \u001B[38;5;28;01mreturn\u001B[39;00m \u001B[43mklass\u001B[49m\u001B[38;5;241;43m.\u001B[39;49m\u001B[43mfrom_file_map\u001B[49m\u001B[43m(\u001B[49m\u001B[43mfile_map\u001B[49m\u001B[43m,\u001B[49m\u001B[43m \u001B[49m\u001B[43mmmap\u001B[49m\u001B[38;5;241;43m=\u001B[39;49m\u001B[43mmmap\u001B[49m\u001B[43m,\u001B[49m\u001B[43m \u001B[49m\u001B[43mkeep_file_open\u001B[49m\u001B[38;5;241;43m=\u001B[39;49m\u001B[43mkeep_file_open\u001B[49m\u001B[43m)\u001B[49m\n",
      "File \u001B[0;32m~/PycharmProjects/Neuro/.venv/lib/python3.12/site-packages/nibabel/cifti2/cifti2.py:1515\u001B[0m, in \u001B[0;36mCifti2Image.from_file_map\u001B[0;34m(klass, file_map, mmap, keep_file_open)\u001B[0m\n\u001B[1;32m   1502\u001B[0m \u001B[38;5;250m\u001B[39m\u001B[38;5;124;03m\"\"\"Load a CIFTI-2 image from a file_map\u001B[39;00m\n\u001B[1;32m   1503\u001B[0m \n\u001B[1;32m   1504\u001B[0m \u001B[38;5;124;03mParameters\u001B[39;00m\n\u001B[0;32m   (...)\u001B[0m\n\u001B[1;32m   1511\u001B[0m \u001B[38;5;124;03m    Returns a Cifti2Image\u001B[39;00m\n\u001B[1;32m   1512\u001B[0m \u001B[38;5;124;03m\"\"\"\u001B[39;00m\n\u001B[1;32m   1513\u001B[0m \u001B[38;5;28;01mfrom\u001B[39;00m \u001B[38;5;21;01m.\u001B[39;00m\u001B[38;5;21;01mparse_cifti2\u001B[39;00m \u001B[38;5;28;01mimport\u001B[39;00m Cifti2Extension, _Cifti2AsNiftiImage\n\u001B[0;32m-> 1515\u001B[0m nifti_img \u001B[38;5;241m=\u001B[39m \u001B[43m_Cifti2AsNiftiImage\u001B[49m\u001B[38;5;241;43m.\u001B[39;49m\u001B[43mfrom_file_map\u001B[49m\u001B[43m(\u001B[49m\n\u001B[1;32m   1516\u001B[0m \u001B[43m    \u001B[49m\u001B[43mfile_map\u001B[49m\u001B[43m,\u001B[49m\u001B[43m \u001B[49m\u001B[43mmmap\u001B[49m\u001B[38;5;241;43m=\u001B[39;49m\u001B[43mmmap\u001B[49m\u001B[43m,\u001B[49m\u001B[43m \u001B[49m\u001B[43mkeep_file_open\u001B[49m\u001B[38;5;241;43m=\u001B[39;49m\u001B[43mkeep_file_open\u001B[49m\n\u001B[1;32m   1517\u001B[0m \u001B[43m\u001B[49m\u001B[43m)\u001B[49m\n\u001B[1;32m   1519\u001B[0m \u001B[38;5;66;03m# Get cifti2 header\u001B[39;00m\n\u001B[1;32m   1520\u001B[0m \u001B[38;5;28;01mfor\u001B[39;00m item \u001B[38;5;129;01min\u001B[39;00m nifti_img\u001B[38;5;241m.\u001B[39mheader\u001B[38;5;241m.\u001B[39mextensions:\n",
      "File \u001B[0;32m~/PycharmProjects/Neuro/.venv/lib/python3.12/site-packages/nibabel/analyze.py:960\u001B[0m, in \u001B[0;36mAnalyzeImage.from_file_map\u001B[0;34m(klass, file_map, mmap, keep_file_open)\u001B[0m\n\u001B[1;32m    958\u001B[0m hdr_fh, img_fh \u001B[38;5;241m=\u001B[39m klass\u001B[38;5;241m.\u001B[39m_get_fileholders(file_map)\n\u001B[1;32m    959\u001B[0m \u001B[38;5;28;01mwith\u001B[39;00m hdr_fh\u001B[38;5;241m.\u001B[39mget_prepare_fileobj(mode\u001B[38;5;241m=\u001B[39m\u001B[38;5;124m'\u001B[39m\u001B[38;5;124mrb\u001B[39m\u001B[38;5;124m'\u001B[39m) \u001B[38;5;28;01mas\u001B[39;00m hdrf:\n\u001B[0;32m--> 960\u001B[0m     header \u001B[38;5;241m=\u001B[39m \u001B[43mklass\u001B[49m\u001B[38;5;241;43m.\u001B[39;49m\u001B[43mheader_class\u001B[49m\u001B[38;5;241;43m.\u001B[39;49m\u001B[43mfrom_fileobj\u001B[49m\u001B[43m(\u001B[49m\u001B[43mhdrf\u001B[49m\u001B[43m)\u001B[49m\n\u001B[1;32m    961\u001B[0m hdr_copy \u001B[38;5;241m=\u001B[39m header\u001B[38;5;241m.\u001B[39mcopy()\n\u001B[1;32m    962\u001B[0m imgf \u001B[38;5;241m=\u001B[39m img_fh\u001B[38;5;241m.\u001B[39mfileobj\n",
      "File \u001B[0;32m~/PycharmProjects/Neuro/.venv/lib/python3.12/site-packages/nibabel/nifti1.py:721\u001B[0m, in \u001B[0;36mNifti1Header.from_fileobj\u001B[0;34m(klass, fileobj, endianness, check)\u001B[0m\n\u001B[1;32m    719\u001B[0m     extsize \u001B[38;5;241m=\u001B[39m hdr\u001B[38;5;241m.\u001B[39m_structarr[\u001B[38;5;124m'\u001B[39m\u001B[38;5;124mvox_offset\u001B[39m\u001B[38;5;124m'\u001B[39m] \u001B[38;5;241m-\u001B[39m fileobj\u001B[38;5;241m.\u001B[39mtell()\n\u001B[1;32m    720\u001B[0m byteswap \u001B[38;5;241m=\u001B[39m endian_codes[\u001B[38;5;124m'\u001B[39m\u001B[38;5;124mnative\u001B[39m\u001B[38;5;124m'\u001B[39m] \u001B[38;5;241m!=\u001B[39m hdr\u001B[38;5;241m.\u001B[39mendianness\n\u001B[0;32m--> 721\u001B[0m hdr\u001B[38;5;241m.\u001B[39mextensions \u001B[38;5;241m=\u001B[39m \u001B[43mklass\u001B[49m\u001B[38;5;241;43m.\u001B[39;49m\u001B[43mexts_klass\u001B[49m\u001B[38;5;241;43m.\u001B[39;49m\u001B[43mfrom_fileobj\u001B[49m\u001B[43m(\u001B[49m\u001B[43mfileobj\u001B[49m\u001B[43m,\u001B[49m\u001B[43m \u001B[49m\u001B[43mextsize\u001B[49m\u001B[43m,\u001B[49m\u001B[43m \u001B[49m\u001B[43mbyteswap\u001B[49m\u001B[43m)\u001B[49m\n\u001B[1;32m    722\u001B[0m \u001B[38;5;28;01mreturn\u001B[39;00m hdr\n",
      "File \u001B[0;32m~/PycharmProjects/Neuro/.venv/lib/python3.12/site-packages/nibabel/nifti1.py:633\u001B[0m, in \u001B[0;36mNifti1Extensions.from_fileobj\u001B[0;34m(klass, fileobj, size, byteswap)\u001B[0m\n\u001B[1;32m    630\u001B[0m \u001B[38;5;66;03m# 'extension_codes' also knows the best implementation to handle\u001B[39;00m\n\u001B[1;32m    631\u001B[0m \u001B[38;5;66;03m# a particular extension type\u001B[39;00m\n\u001B[1;32m    632\u001B[0m \u001B[38;5;28;01mtry\u001B[39;00m:\n\u001B[0;32m--> 633\u001B[0m     ext \u001B[38;5;241m=\u001B[39m \u001B[43mextension_codes\u001B[49m\u001B[38;5;241;43m.\u001B[39;49m\u001B[43mhandler\u001B[49m\u001B[43m[\u001B[49m\u001B[43mecode\u001B[49m\u001B[43m]\u001B[49m\u001B[43m(\u001B[49m\u001B[43mecode\u001B[49m\u001B[43m,\u001B[49m\u001B[43m \u001B[49m\u001B[43mevalue\u001B[49m\u001B[43m)\u001B[49m\n\u001B[1;32m    634\u001B[0m \u001B[38;5;28;01mexcept\u001B[39;00m \u001B[38;5;167;01mKeyError\u001B[39;00m:\n\u001B[1;32m    635\u001B[0m     \u001B[38;5;66;03m# unknown extension type\u001B[39;00m\n\u001B[1;32m    636\u001B[0m     \u001B[38;5;66;03m# XXX complain or fail or go with a generic extension\u001B[39;00m\n\u001B[1;32m    637\u001B[0m     ext \u001B[38;5;241m=\u001B[39m Nifti1Extension(ecode, evalue)\n",
      "File \u001B[0;32m~/PycharmProjects/Neuro/.venv/lib/python3.12/site-packages/nibabel/cifti2/parse_cifti2.py:47\u001B[0m, in \u001B[0;36mCifti2Extension.__init__\u001B[0;34m(self, code, content)\u001B[0m\n\u001B[1;32m     46\u001B[0m \u001B[38;5;28;01mdef\u001B[39;00m \u001B[38;5;21m__init__\u001B[39m(\u001B[38;5;28mself\u001B[39m, code\u001B[38;5;241m=\u001B[39m\u001B[38;5;28;01mNone\u001B[39;00m, content\u001B[38;5;241m=\u001B[39m\u001B[38;5;28;01mNone\u001B[39;00m):\n\u001B[0;32m---> 47\u001B[0m     \u001B[43mNifti1Extension\u001B[49m\u001B[38;5;241;43m.\u001B[39;49m\u001B[38;5;21;43m__init__\u001B[39;49m\u001B[43m(\u001B[49m\u001B[38;5;28;43mself\u001B[39;49m\u001B[43m,\u001B[49m\u001B[43m \u001B[49m\u001B[43mcode\u001B[49m\u001B[38;5;241;43m=\u001B[39;49m\u001B[43mcode\u001B[49m\u001B[43m \u001B[49m\u001B[38;5;129;43;01mor\u001B[39;49;00m\u001B[43m \u001B[49m\u001B[38;5;28;43mself\u001B[39;49m\u001B[38;5;241;43m.\u001B[39;49m\u001B[43mcode\u001B[49m\u001B[43m,\u001B[49m\u001B[43m \u001B[49m\u001B[43mcontent\u001B[49m\u001B[38;5;241;43m=\u001B[39;49m\u001B[43mcontent\u001B[49m\u001B[43m)\u001B[49m\n",
      "File \u001B[0;32m~/PycharmProjects/Neuro/.venv/lib/python3.12/site-packages/nibabel/nifti1.py:310\u001B[0m, in \u001B[0;36mNifti1Extension.__init__\u001B[0;34m(self, code, content)\u001B[0m\n\u001B[1;32m    307\u001B[0m \u001B[38;5;28;01mexcept\u001B[39;00m \u001B[38;5;167;01mKeyError\u001B[39;00m:\n\u001B[1;32m    308\u001B[0m     \u001B[38;5;66;03m# XXX or fail or at least complain?\u001B[39;00m\n\u001B[1;32m    309\u001B[0m     \u001B[38;5;28mself\u001B[39m\u001B[38;5;241m.\u001B[39m_code \u001B[38;5;241m=\u001B[39m code\n\u001B[0;32m--> 310\u001B[0m \u001B[38;5;28mself\u001B[39m\u001B[38;5;241m.\u001B[39m_content \u001B[38;5;241m=\u001B[39m \u001B[38;5;28;43mself\u001B[39;49m\u001B[38;5;241;43m.\u001B[39;49m\u001B[43m_unmangle\u001B[49m\u001B[43m(\u001B[49m\u001B[43mcontent\u001B[49m\u001B[43m)\u001B[49m\n",
      "File \u001B[0;32m~/PycharmProjects/Neuro/.venv/lib/python3.12/site-packages/nibabel/cifti2/parse_cifti2.py:51\u001B[0m, in \u001B[0;36mCifti2Extension._unmangle\u001B[0;34m(self, value)\u001B[0m\n\u001B[1;32m     49\u001B[0m \u001B[38;5;28;01mdef\u001B[39;00m \u001B[38;5;21m_unmangle\u001B[39m(\u001B[38;5;28mself\u001B[39m, value):\n\u001B[1;32m     50\u001B[0m     parser \u001B[38;5;241m=\u001B[39m Cifti2Parser()\n\u001B[0;32m---> 51\u001B[0m     \u001B[43mparser\u001B[49m\u001B[38;5;241;43m.\u001B[39;49m\u001B[43mparse\u001B[49m\u001B[43m(\u001B[49m\u001B[43mstring\u001B[49m\u001B[38;5;241;43m=\u001B[39;49m\u001B[43mvalue\u001B[49m\u001B[43m)\u001B[49m\n\u001B[1;32m     52\u001B[0m     \u001B[38;5;28mself\u001B[39m\u001B[38;5;241m.\u001B[39m_content \u001B[38;5;241m=\u001B[39m parser\u001B[38;5;241m.\u001B[39mheader\n\u001B[1;32m     53\u001B[0m     \u001B[38;5;28;01mreturn\u001B[39;00m \u001B[38;5;28mself\u001B[39m\u001B[38;5;241m.\u001B[39m_content\n",
      "File \u001B[0;32m~/PycharmProjects/Neuro/.venv/lib/python3.12/site-packages/nibabel/xmlutils.py:108\u001B[0m, in \u001B[0;36mXmlParser.parse\u001B[0;34m(self, string, fname, fptr)\u001B[0m\n\u001B[1;32m    106\u001B[0m \u001B[38;5;28;01mfor\u001B[39;00m name \u001B[38;5;129;01min\u001B[39;00m \u001B[38;5;28mself\u001B[39m\u001B[38;5;241m.\u001B[39mHANDLER_NAMES:\n\u001B[1;32m    107\u001B[0m     \u001B[38;5;28msetattr\u001B[39m(parser, name, \u001B[38;5;28mgetattr\u001B[39m(\u001B[38;5;28mself\u001B[39m, name))\n\u001B[0;32m--> 108\u001B[0m \u001B[43mparser\u001B[49m\u001B[38;5;241;43m.\u001B[39;49m\u001B[43mParseFile\u001B[49m\u001B[43m(\u001B[49m\u001B[43mfptr\u001B[49m\u001B[43m)\u001B[49m\n",
      "File \u001B[0;32m/Users/sysadmin/build/v3.12.4/Modules/pyexpat.c:477\u001B[0m, in \u001B[0;36mEndElement\u001B[0;34m()\u001B[0m\n",
      "File \u001B[0;32m~/PycharmProjects/Neuro/.venv/lib/python3.12/site-packages/nibabel/cifti2/parse_cifti2.py:400\u001B[0m, in \u001B[0;36mCifti2Parser.EndElementHandler\u001B[0;34m(self, name)\u001B[0m\n\u001B[1;32m    399\u001B[0m \u001B[38;5;28;01mdef\u001B[39;00m \u001B[38;5;21mEndElementHandler\u001B[39m(\u001B[38;5;28mself\u001B[39m, name):\n\u001B[0;32m--> 400\u001B[0m     \u001B[38;5;28;43mself\u001B[39;49m\u001B[38;5;241;43m.\u001B[39;49m\u001B[43mflush_chardata\u001B[49m\u001B[43m(\u001B[49m\u001B[43m)\u001B[49m\n\u001B[1;32m    401\u001B[0m     \u001B[38;5;28;01mif\u001B[39;00m \u001B[38;5;28mself\u001B[39m\u001B[38;5;241m.\u001B[39mverbose \u001B[38;5;241m>\u001B[39m \u001B[38;5;241m0\u001B[39m:\n\u001B[1;32m    402\u001B[0m         \u001B[38;5;28mprint\u001B[39m(\u001B[38;5;124m'\u001B[39m\u001B[38;5;124mEnd element:\u001B[39m\u001B[38;5;130;01m\\n\u001B[39;00m\u001B[38;5;130;01m\\t\u001B[39;00m\u001B[38;5;124m'\u001B[39m, \u001B[38;5;28mrepr\u001B[39m(name))\n",
      "File \u001B[0;32m~/PycharmProjects/Neuro/.venv/lib/python3.12/site-packages/nibabel/cifti2/parse_cifti2.py:529\u001B[0m, in \u001B[0;36mCifti2Parser.flush_chardata\u001B[0;34m(self)\u001B[0m\n\u001B[1;32m    527\u001B[0m     c \u001B[38;5;241m=\u001B[39m BytesIO(data\u001B[38;5;241m.\u001B[39mstrip()\u001B[38;5;241m.\u001B[39mencode(\u001B[38;5;124m'\u001B[39m\u001B[38;5;124mutf-8\u001B[39m\u001B[38;5;124m'\u001B[39m))\n\u001B[1;32m    528\u001B[0m     parent \u001B[38;5;241m=\u001B[39m \u001B[38;5;28mself\u001B[39m\u001B[38;5;241m.\u001B[39mstruct_state[\u001B[38;5;241m-\u001B[39m\u001B[38;5;241m1\u001B[39m]\n\u001B[0;32m--> 529\u001B[0m     \u001B[43mparent\u001B[49m\u001B[38;5;241;43m.\u001B[39;49m\u001B[43mvoxel_indices_ijk\u001B[49m\u001B[38;5;241;43m.\u001B[39;49m\u001B[43mextend\u001B[49m\u001B[43m(\u001B[49m\u001B[43mnp\u001B[49m\u001B[38;5;241;43m.\u001B[39;49m\u001B[43mloadtxt\u001B[49m\u001B[43m(\u001B[49m\u001B[43mc\u001B[49m\u001B[43m,\u001B[49m\u001B[43m \u001B[49m\u001B[43mdtype\u001B[49m\u001B[38;5;241;43m=\u001B[39;49m\u001B[38;5;28;43mint\u001B[39;49m\u001B[43m)\u001B[49m\u001B[38;5;241;43m.\u001B[39;49m\u001B[43mreshape\u001B[49m\u001B[43m(\u001B[49m\u001B[38;5;241;43m-\u001B[39;49m\u001B[38;5;241;43m1\u001B[39;49m\u001B[43m,\u001B[49m\u001B[43m \u001B[49m\u001B[38;5;241;43m3\u001B[39;49m\u001B[43m)\u001B[49m\u001B[43m)\u001B[49m\n\u001B[1;32m    530\u001B[0m     c\u001B[38;5;241m.\u001B[39mclose()\n\u001B[1;32m    532\u001B[0m \u001B[38;5;28;01melif\u001B[39;00m \u001B[38;5;28mself\u001B[39m\u001B[38;5;241m.\u001B[39mwrite_to \u001B[38;5;241m==\u001B[39m \u001B[38;5;124m'\u001B[39m\u001B[38;5;124mVertexIndices\u001B[39m\u001B[38;5;124m'\u001B[39m:\n\u001B[1;32m    533\u001B[0m     \u001B[38;5;66;03m# conversion to numpy array\u001B[39;00m\n",
      "File \u001B[0;32m<frozen _collections_abc>:1151\u001B[0m, in \u001B[0;36mextend\u001B[0;34m(self, values)\u001B[0m\n",
      "File \u001B[0;32m<frozen _collections_abc>:1130\u001B[0m, in \u001B[0;36mappend\u001B[0;34m(self, value)\u001B[0m\n",
      "File \u001B[0;32m~/PycharmProjects/Neuro/.venv/lib/python3.12/site-packages/nibabel/cifti2/cifti2.py:582\u001B[0m, in \u001B[0;36mCifti2VoxelIndicesIJK.insert\u001B[0;34m(self, index, value)\u001B[0m\n\u001B[1;32m    580\u001B[0m     \u001B[38;5;28;01mif\u001B[39;00m \u001B[38;5;28mlen\u001B[39m(value) \u001B[38;5;241m!=\u001B[39m \u001B[38;5;241m3\u001B[39m:\n\u001B[1;32m    581\u001B[0m         \u001B[38;5;28;01mraise\u001B[39;00m \u001B[38;5;167;01mValueError\u001B[39;00m\n\u001B[0;32m--> 582\u001B[0m     \u001B[38;5;28;43mself\u001B[39;49m\u001B[38;5;241;43m.\u001B[39;49m\u001B[43m_indices\u001B[49m\u001B[38;5;241;43m.\u001B[39;49m\u001B[43minsert\u001B[49m\u001B[43m(\u001B[49m\u001B[43mindex\u001B[49m\u001B[43m,\u001B[49m\u001B[43m \u001B[49m\u001B[43mvalue\u001B[49m\u001B[43m)\u001B[49m\n\u001B[1;32m    583\u001B[0m \u001B[38;5;28;01mexcept\u001B[39;00m \u001B[38;5;167;01mValueError\u001B[39;00m:\n\u001B[1;32m    584\u001B[0m     \u001B[38;5;28;01mraise\u001B[39;00m \u001B[38;5;167;01mValueError\u001B[39;00m(\u001B[38;5;124m'\u001B[39m\u001B[38;5;124mvalue must be a triple of int\u001B[39m\u001B[38;5;124m'\u001B[39m)\n",
      "\u001B[0;31mKeyboardInterrupt\u001B[0m: "
     ]
    }
   ],
   "execution_count": 326
  },
  {
   "metadata": {
    "ExecuteTime": {
     "end_time": "2025-04-09T19:51:55.839509Z",
     "start_time": "2025-04-09T19:51:55.819225Z"
    }
   },
   "cell_type": "code",
   "source": [
    "L2s = np.load('L2_all.npy')\n",
    "peaks = []\n",
    "for L2 in L2s:\n",
    "    p, _ = find_peaks(L2, prominence=-999, height=-999)\n",
    "    p = t_offset[p]\n",
    "    p = p % 21\n",
    "    peaks.append(p)\n",
    "peaks = np.concatenate(peaks)"
   ],
   "id": "e3515c4b6097aa5c",
   "outputs": [],
   "execution_count": 327
  },
  {
   "metadata": {
    "ExecuteTime": {
     "end_time": "2025-04-09T19:51:58.133144Z",
     "start_time": "2025-04-09T19:51:57.613275Z"
    }
   },
   "cell_type": "code",
   "source": [
    "fig, ax = plt.subplots(1, 1, figsize=(10, 2))\n",
    "ax.hist(peaks, color=cmap[0], bins=21, align='mid', edgecolor='white', linewidth=1, label='L2 Distance Peaks')\n",
    "ax.set_xlim(-1, 20)\n",
    "ax.set_ylim(0, 120)\n",
    "\n",
    "ax.set_xticks(np.linspace(0, 20, 16), np.arange(16))\n",
    "ax.xaxis.set_minor_locator(AutoMinorLocator())\n",
    "\n",
    "ax.axvline(0, c=cmap[2], linestyle='--', linewidth=2, label='Anticipatory Cue')\n",
    "# ax.axvline((3/TR)*20/21, c=cmap[4], linestyle='--', linewidth=2, label='Task Change')\n",
    "ax.axvline((4)*20/21, c=cmap[4], linestyle='--', linewidth=2, label='Task Change')\n",
    "\n",
    "ax.set_xlabel('Seconds Since Most Recent Anticipatory Task Cue')\n",
    "ax.set_ylabel('Frequency')\n",
    "ax.legend(loc='upper right')\n",
    "\n",
    "fig.savefig('Figure 2', dpi=300, bbox_inches='tight')\n",
    "plt.show()\n",
    "\n",
    "'''\n",
    "TODO: need to verify the actual offset...\n",
    "    Write out equations\n",
    "    Note the importance of considering hte actual task change rather than the anticipation for this.\n",
    "    Write out the 15s thing in the methods. AND the TR = 0.72...\n",
    "    \n",
    "    NOTE - it is prudent to say that it takes around 2s for fMRI to start to capture changes.\n",
    "    Can just write about IRF in conclusion/discussion, etc.\n",
    "\n",
    "TODO: add border around this for pub purposes. Say histogram in figure label\n",
    "\n",
    "The issue with the current method - in thoery each frame should be displayed to the pt for 1 TR, which means I SHOULD go by that as my reference. \n",
    "'''"
   ],
   "id": "f611de54edfa188c",
   "outputs": [
    {
     "data": {
      "text/plain": [
       "<Figure size 1000x200 with 1 Axes>"
      ],
      "image/png": "[encoded data removed]"
     },
     "metadata": {},
     "output_type": "display_data"
    },
    {
     "data": {
      "text/plain": [
       "'\\nTODO: need to verify the actual offset...\\n    Write out equations\\n    Note the importance of considering hte actual task change rather than the anticipation for this.\\n    Write out the 15s thing in the methods. AND the TR = 0.72...\\n    \\n    NOTE - it is prudent to say that it takes around 2s for fMRI to start to capture changes.\\n    Can just write about IRF in conclusion/discussion, etc.\\n\\nTODO: add border around this for pub purposes. Say histogram in figure label\\n\\nThe issue with the current method - in thoery each frame should be displayed to the pt for 1 TR, which means I SHOULD go by that as my reference. \\n'"
      ]
     },
     "execution_count": 328,
     "metadata": {},
     "output_type": "execute_result"
    }
   ],
   "execution_count": 328
  },
  {
   "metadata": {},
   "cell_type": "markdown",
   "source": "",
   "id": "1496d18ff2dc1dc6"
  },
  {
   "metadata": {},
   "cell_type": "markdown",
   "source": "",
   "id": "d4f98305cf4a3c73"
  },
  {
   "metadata": {},
   "cell_type": "markdown",
   "source": "",
   "id": "c2ffba12e3eae14"
  },
  {
   "metadata": {
    "ExecuteTime": {
     "end_time": "2025-04-09T19:52:08.263418Z",
     "start_time": "2025-04-09T19:52:08.249202Z"
    }
   },
   "cell_type": "code",
   "source": [
    "'''\n",
    "Chi-squared to get p-value to use in publication.\n",
    "'''\n",
    "print(chisquare(peaks))"
   ],
   "id": "4b6ae7075f6f7e5",
   "outputs": [
    {
     "name": "stdout",
     "output_type": "stream",
     "text": [
      "Power_divergenceResult(statistic=np.float64(3371.879254183983), pvalue=np.float64(9.909688770459927e-268))\n"
     ]
    }
   ],
   "execution_count": 329
  },
  {
   "metadata": {
    "ExecuteTime": {
     "end_time": "2025-04-09T19:52:10.371727Z",
     "start_time": "2025-04-09T19:52:10.366203Z"
    }
   },
   "cell_type": "code",
   "source": [
    "'''\n",
    "Note - maybe create a table of the subjects I used, gender, other info I have?\n",
    "'''\n",
    "\n",
    "'''\n",
    "Validating the anticipatory task cue -> task change change.\n",
    "\n",
    "132744.0\n",
    "'''\n",
    "\n",
    "# import pandas as pd\n",
    "# \n",
    "# testy = pd.read_csv('/Users/spencerbrown/PycharmProjects/Neuro/Data/100610/100610_3T_MOTOR/MNINonLinear/Results/tfMRI_MOTOR_RL/MOTOR_run1_TAB.txt', sep='\\t')\n",
    "# \n",
    "# testy"
   ],
   "id": "f0f3928254f9bb30",
   "outputs": [
    {
     "data": {
      "text/plain": [
       "'\\nValidating the anticipatory task cue -> task change change.\\n\\n132744.0\\n'"
      ]
     },
     "execution_count": 330,
     "metadata": {},
     "output_type": "execute_result"
    }
   ],
   "execution_count": 330
  },
  {
   "metadata": {},
   "cell_type": "code",
   "source": [
    "'''\n",
    "Adjustment - moving transitions.\n",
    "Need to:\n",
    "    Add 0.50 to standard time point...\n",
    "    Subtract 0.50 from transtioin\n",
    "    Cues now line up directly wtih the transition...\n",
    "\n",
    "Given it starts at 0.5, and I need 2*std = 30 offset on either side.\n",
    "    I must start at 31 - which goes from 30.5 <-> 31.5, each with 30 minimum.\n",
    "'''\n",
    "\n",
    "'''\n",
    "Assessing cue offset in original expeirment:\n",
    "First cue: 8.036 s\n",
    "First task: 11.008 s\n",
    "\n",
    "Second cue: 23.163 s\n",
    "Second task: 26.136 s\n",
    "'''\n",
    "\n",
    "# a = 8.036\n",
    "# b = 11.008\n",
    "# print((b - a), (b - a) / TR)\n",
    "# \n",
    "# a = 23.163\n",
    "# b = 26.136\n",
    "# print((b - a), (b - a) / TR)\n",
    "\n",
    "# cues_truth = np.array([8.030, 23.163, 53.298, 68.412, 83.539, 113.66, 128.787, 143.914, 159.041, 174.168])\n",
    "# print((cues_truth/TR + 4) * TR) # Underextimates by a constant 0.100s, is fine?\n",
    "# print(cues_truth+3) #Might as well do this... given it doesn't really matter if it's exact? This notably does demosntrate it better...\n"
   ],
   "id": "d37860c9aed9d306",
   "outputs": [],
   "execution_count": null
  },
  {
   "metadata": {
    "ExecuteTime": {
     "end_time": "2025-04-09T19:52:14.584156Z",
     "start_time": "2025-04-09T19:52:14.358436Z"
    }
   },
   "cell_type": "code",
   "source": [
    "''' Ammended figure with border: '''\n",
    "import cv2\n",
    "\n",
    "fig = cv2.imread('Figure 2.png')\n",
    "\n",
    "pad_R = 75\n",
    "pad_U = 90\n",
    "pad_L = 25\n",
    "\n",
    "fig = np.concatenate([fig, 255 * np.ones((fig.shape[0], pad_R, 3))], axis=1)\n",
    "fig = np.concatenate([255 * np.ones((fig.shape[0], pad_L, 3)), fig], axis=1)\n",
    "fig = np.concatenate([255 * np.ones((pad_U, fig.shape[1], 3)), fig], axis=0)\n",
    "\n",
    "fig[:10, :, :] = 0\n",
    "fig[:, :10, :] = 0\n",
    "fig[-10:, :, :] = 0\n",
    "fig[:, -10:, :] = 0\n",
    "\n",
    "fig = fig.astype(np.uint8)\n",
    "cv2.imwrite('Figure 2_ammended.png', fig)\n",
    "\n",
    "plt.imshow(fig)\n",
    "plt.axis('off')\n",
    "plt.show()"
   ],
   "id": "72886bc2de24bcea",
   "outputs": [
    {
     "data": {
      "text/plain": [
       "<Figure size 640x480 with 1 Axes>"
      ],
      "image/png": "[encoded data removed]"
     },
     "metadata": {},
     "output_type": "display_data"
    }
   ],
   "execution_count": 331
  },
  {
   "metadata": {},
   "cell_type": "code",
   "source": "frames",
   "id": "e8cb6b4e660d8cb0",
   "outputs": [],
   "execution_count": null
  }
 ],
 "metadata": {
  "kernelspec": {
   "display_name": "Python 3",
   "language": "python",
   "name": "python3"
  },
  "language_info": {
   "codemirror_mode": {
    "name": "ipython",
    "version": 2
   },
   "file_extension": ".py",
   "mimetype": "text/x-python",
   "name": "python",
   "nbconvert_exporter": "python",
   "pygments_lexer": "ipython2",
   "version": "2.7.6"
  }
 },
 "nbformat": 4,
 "nbformat_minor": 5
}
